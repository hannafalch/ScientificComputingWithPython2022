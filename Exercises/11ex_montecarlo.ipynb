{
 "cells": [
  {
   "cell_type": "markdown",
   "metadata": {},
   "source": [
    "# Exercise 11"
   ]
  },
  {
   "cell_type": "code",
   "execution_count": 56,
   "metadata": {},
   "outputs": [],
   "source": [
    "import numpy as np\n",
    "import matplotlib.pyplot as plt"
   ]
  },
  {
   "cell_type": "markdown",
   "metadata": {},
   "source": [
    "## 1. Radioactive decay chain\n",
    "\n",
    "${\\rm Tl}^{208}$ decays to ${\\rm Pb}^{208}$ with a half-life $\\tau$ of 3.052 minutes. Suppose to start with a sample of 1000 Thallium atoms and 0 of Lead atoms.\n",
    "\n",
    "* Take steps in time of 1 second and at each time-step decide whether each Tl atom has decayed or not, accordingly to the probability $p(t)=1-2^{-t/\\tau}$. Subtract the total number of Tl atoms that decayed at each step from the Tl sample and add them to the Lead one. Plot the evolution of the two sets as a function of time  \n",
    "* Repeat the exercise by means of the inverse transform method: draw 1000 random numbers from the non-uniform probability distribution $p(t)=2^{-t/\\tau}\\frac{\\ln 2}{\\tau}$ to represent the times of decay of the 1000 Tl atoms. Make a plot showing the number of atoms that have not decayed as a function of time"
   ]
  },
  {
   "cell_type": "code",
   "execution_count": 10,
   "metadata": {},
   "outputs": [],
   "source": [
    "tau = 3.052 * 60\n",
    "Tl_init = 1000 #number of TI-atoms at start\n",
    "Pb_init = 0\n",
    "\n",
    "def p(t):\n",
    "    return 1 - 2**(-t/tau)\n",
    "\n",
    "def radioMonte(t, Tl, Pb):\n",
    "    n_Tl = np.empty(t)\n",
    "    n_Pb = np.empty(t)\n",
    "    \n",
    "    n_Tl[0] = Tl\n",
    "    n_Pb[0] = Pb\n",
    "        \n",
    "    decay_limit = np.random.random(Tl_init)\n",
    "    \n",
    "    for i in range(1,t):\n",
    "        decayed = len(decay_limit[p(i) > decay_limit])\n",
    "        n_Tl[i] = Tl - decayed\n",
    "        n_Pb[i] = Pb + decayed\n",
    "        \n",
    "    return n_Tl, n_Pb\n",
    "    "
   ]
  },
  {
   "cell_type": "code",
   "execution_count": 11,
   "metadata": {},
   "outputs": [
    {
     "data": {
      "image/png": "[encoded data removed]",
      "text/plain": [
       "<Figure size 432x288 with 1 Axes>"
      ]
     },
     "metadata": {
      "needs_background": "light"
     },
     "output_type": "display_data"
    }
   ],
   "source": [
    "t = 1000\n",
    "n_Tl, n_Pb = radioMonte(t, Tl_init, Pb_init)\n",
    "plt.plot(n_Tl)\n",
    "plt.plot(n_Pb)\n",
    "plt.show()"
   ]
  },
  {
   "cell_type": "markdown",
   "metadata": {},
   "source": [
    "### Inverse transformation method:\n",
    "\n",
    "First we need to find the inverse probability function. We know that:\n",
    "\n",
    "$p(t)=2^{-t/\\tau}\\frac{\\ln 2}{\\tau}$\n",
    "\n",
    "Which means that:\n",
    "\n",
    "$P(t) = \\int_0^t p(t')dt' = \\frac{\\ln2}{\\tau} \\int_0^t 2^{-t'/\\tau} dt' = 1 - 2^{-t/\\tau} = y$\n",
    "\n",
    "Inverting and solving for t gives:\n",
    "\n",
    "$t(y) = P^{-1}(y) = -\\frac{\\tau \\cdot ln(1-y)}{ln(2)}$\n",
    "\n",
    "Using this function we get:"
   ]
  },
  {
   "cell_type": "code",
   "execution_count": 71,
   "metadata": {},
   "outputs": [
    {
     "data": {
      "text/plain": [
       "[<matplotlib.lines.Line2D at 0x7ff850ef81d0>]"
      ]
     },
     "execution_count": 71,
     "metadata": {},
     "output_type": "execute_result"
    },
    {
     "data": {
      "image/png": "[encoded data removed]",
      "text/plain": [
       "<Figure size 432x288 with 1 Axes>"
      ]
     },
     "metadata": {
      "needs_background": "light"
     },
     "output_type": "display_data"
    }
   ],
   "source": [
    "def p2(t):\n",
    "    #return 2**((-t/tau)*(np.log(2)/2))\n",
    "    return - tau*np.log(1-y)/np.log(2)\n",
    " \n",
    "def radioMonteReverse(t, Tl):\n",
    "    y = np.random.random(Tl)\n",
    "    time_decay = p2(y)\n",
    "    \n",
    "    n_Tl = np.ones(t)*Tl\n",
    "    \n",
    "    for i in range(1,t):\n",
    "        decayed = len(time_decay[i>time_decay])\n",
    "        n_Tl[i] = Tl - decayed\n",
    "    \n",
    "    \n",
    "    return n_Tl\n",
    "\n",
    "n_Tl2 = radioMonteReverse(1000, Tl_init)\n",
    "plt.plot(n_Tl2)"
   ]
  },
  {
   "cell_type": "markdown",
   "metadata": {},
   "source": [
    "## 2. Monte Carlo integration: hit/miss vs mean value method\n",
    "\n",
    "Consider the function: \n",
    "\n",
    "$$f(x) =\\sin^2{\\left( \\frac{1}{1-x} \\right)}$$\n",
    "\n",
    "* Plot the function and compute the integral of $f(x)$ between 0 and 2 with the hit/miss method. Evaluate the error of your estimate (hint: repeat the integral $N$ times, and from the distribution of the integrals take the mean value and the standard deviation, the latter rescaled by the appropriate factor)\n",
    "* Repeat the integral with the mean value method. Evaluate the error and compare it with the previous one."
   ]
  },
  {
   "cell_type": "code",
   "execution_count": 72,
   "metadata": {},
   "outputs": [],
   "source": [
    "def f2(x):\n",
    "    return (np.sin(1/(1-x)))**2\n",
    "\n",
    "#x = np.linspace(0,2,100)\n",
    "#plt.plot(x, f2(x))\n",
    "#plt.show()"
   ]
  },
  {
   "cell_type": "code",
   "execution_count": 49,
   "metadata": {},
   "outputs": [
    {
     "name": "stdout",
     "output_type": "stream",
     "text": [
      "Mean value:  1.3400000000000002e-05\n",
      "Standard deviation:  9.404254356406998e-06\n"
     ]
    }
   ],
   "source": [
    "def hitMiss(N):\n",
    "    I_list = np.zeros(N)\n",
    "    \n",
    "    for i in range(N):\n",
    "        n = 100000\n",
    "        count = 0\n",
    "\n",
    "        x = 2 * np.random.random()# x is random uniform between 0 and 2\n",
    "        y = np.random.random() # y is random uniform between 0 and 1\n",
    "        \n",
    "        if y < f2(x): count += 1\n",
    "\n",
    "        I_list[i] = 2 * count / n\n",
    "    #print('Integral:', I_list)\n",
    "    print('Mean value: ', np.mean(I_list))\n",
    "    print('Standard deviation: ', np.std(I_list))\n",
    "hitMiss(500)"
   ]
  },
  {
   "cell_type": "code",
   "execution_count": 50,
   "metadata": {},
   "outputs": [
    {
     "name": "stdout",
     "output_type": "stream",
     "text": [
      "Integral: 1.3264129942793377\n",
      "Standard deviation:  0.0013418076560368305\n"
     ]
    }
   ],
   "source": [
    "def meanValue(N):\n",
    "    x = 2 * np.random.random(N)\n",
    "    I = (2 / N) * np.sum(f2(x))\n",
    "    \n",
    "    std = 2 * np.sqrt(np.var(f2(x)/N))\n",
    "    print('Integral:', I)\n",
    "    print('Standard deviation: ', std)\n",
    "    \n",
    "meanValue(500)"
   ]
  },
  {
   "cell_type": "markdown",
   "metadata": {},
   "source": [
    "The error is clearly smaller in the hit/miss method, so this would be preferable to use in this case."
   ]
  },
  {
   "cell_type": "markdown",
   "metadata": {},
   "source": [
    "## 3. Monte Carlo integration in high dimension\n",
    "\n",
    "* Compute the area of a circle of unit radius, by integrating the function:\n",
    "\n",
    "$$\n",
    "f(x,y)=\n",
    "\\left\\{\n",
    "\\begin{array}{ll}\n",
    "      1 & x^2+y^2\\le 1 \\\\\n",
    "      0 & {\\rm elsewhere}\n",
    "\\end{array} \n",
    "\\right.\n",
    "$$\n",
    "\n",
    "* Generalize the result for a 10D sphere."
   ]
  },
  {
   "cell_type": "code",
   "execution_count": 73,
   "metadata": {},
   "outputs": [
    {
     "name": "stdout",
     "output_type": "stream",
     "text": [
      "The area of the circle of unit radius, a 2D circle, is:  3.1422079999999997\n"
     ]
    }
   ],
   "source": [
    "def f_circle(x, y):\n",
    "    s = x**2 + y**2 <=1\n",
    "    return np.sum(s)\n",
    "\n",
    "N = 1000000\n",
    "x = 2 * np.random.random(N) - 1\n",
    "y = 2 * np.random.random(N) - 1\n",
    "\n",
    "V = 2**2\n",
    "I = V/N * f_circle(x, y)\n",
    "print('The area of the circle of unit radius, a 2D circle, is: ', I)"
   ]
  },
  {
   "cell_type": "code",
   "execution_count": 74,
   "metadata": {},
   "outputs": [
    {
     "name": "stdout",
     "output_type": "stream",
     "text": [
      "The are of a 10D sphere is:  2.536448\n"
     ]
    }
   ],
   "source": [
    "def f_10D(x):\n",
    "    s = np.sum(x**2, axis = 0) <=1\n",
    "    return np.sum(s)\n",
    "\n",
    "N = 1000000\n",
    "coords = 2 * np.random.random((10,N)) - 1\n",
    "\n",
    "\n",
    "V_10D = 2**10\n",
    "I_10D = V_10D/N * f_10D(coords)\n",
    "print('The are of a 10D sphere is: ', I_10D)"
   ]
  },
  {
   "cell_type": "markdown",
   "metadata": {},
   "source": [
    "## 4. Monte Carlo integration with importance sampling\n",
    "\n",
    "Calculate the value of the integral:\n",
    "\n",
    "$$\n",
    "I=\\int_0^1 \\frac{x^{-1/2}}{e^x+1} dx\n",
    "$$\n",
    "\n",
    "using the importance sampling method with $w(x)=1/\\sqrt{x}$. You should expect a result around 0.84."
   ]
  },
  {
   "cell_type": "code",
   "execution_count": 75,
   "metadata": {},
   "outputs": [],
   "source": [
    "def w(x):\n",
    "    return 1/np.sqrt(x)\n",
    "\n",
    "def f3(x):\n",
    "    return x**(-1/2) / (np.exp(x) + 1)\n",
    "\n",
    "\n",
    "def importanceSampling(x, N):\n",
    "    dx = x[1] - x[0]\n",
    "    I = (1/N) * np.sum(f3(x) / w(x)) * np.sum(w(x))*dx\n",
    "    print('The value of the integral is: ', I)\n",
    "    "
   ]
  },
  {
   "cell_type": "code",
   "execution_count": 76,
   "metadata": {},
   "outputs": [
    {
     "name": "stdout",
     "output_type": "stream",
     "text": [
      "The value of the integral is:  0.8222570763381689\n"
     ]
    }
   ],
   "source": [
    "x = np.linspace(0.001,1,100)\n",
    "\n",
    "importanceSampling(x, 100)"
   ]
  },
  {
   "cell_type": "code",
   "execution_count": 63,
   "metadata": {},
   "outputs": [
    {
     "data": {
      "text/plain": [
       "[<matplotlib.lines.Line2D at 0x7ff85e884790>]"
      ]
     },
     "execution_count": 63,
     "metadata": {},
     "output_type": "execute_result"
    },
    {
     "data": {
      "image/png": "[encoded data removed]",
      "text/plain": [
       "<Figure size 432x288 with 1 Axes>"
      ]
     },
     "metadata": {
      "needs_background": "light"
     },
     "output_type": "display_data"
    }
   ],
   "source": [
    "one = f3(x)\n",
    "two = w(x)\n",
    "plt.plot(x, one)\n",
    "plt.plot(x, two)"
   ]
  },
  {
   "cell_type": "code",
   "execution_count": null,
   "metadata": {},
   "outputs": [],
   "source": []
  }
 ],
 "metadata": {
  "kernelspec": {
   "display_name": "Python 3",
   "language": "python",
   "name": "python3"
  },
  "language_info": {
   "codemirror_mode": {
    "name": "ipython",
    "version": 3
   },
   "file_extension": ".py",
   "mimetype": "text/x-python",
   "name": "python",
   "nbconvert_exporter": "python",
   "pygments_lexer": "ipython3",
   "version": "3.7.4"
  }
 },
 "nbformat": 4,
 "nbformat_minor": 2
}
